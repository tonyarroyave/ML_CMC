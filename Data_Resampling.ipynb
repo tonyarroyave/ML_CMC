{
 "cells": [
  {
   "cell_type": "markdown",
   "metadata": {},
   "source": [
    "First we have to resample our 5 years data depending on the moving averages."
   ]
  },
  {
   "cell_type": "code",
   "execution_count": 1,
   "metadata": {},
   "outputs": [
    {
     "name": "stderr",
     "output_type": "stream",
     "text": [
      "/usr/lib/python3.6/importlib/_bootstrap.py:219: RuntimeWarning: numpy.dtype size changed, may indicate binary incompatibility. Expected 96, got 88\n",
      "  return f(*args, **kwds)\n",
      "/usr/lib/python3.6/importlib/_bootstrap.py:219: RuntimeWarning: numpy.dtype size changed, may indicate binary incompatibility. Expected 96, got 88\n",
      "  return f(*args, **kwds)\n"
     ]
    }
   ],
   "source": [
    "import os\n",
    "import numpy as np\n",
    "import pandas as pd\n",
    "import matplotlib.pyplot as plt"
   ]
  },
  {
   "cell_type": "code",
   "execution_count": 10,
   "metadata": {},
   "outputs": [
    {
     "data": {
      "text/plain": [
       "(314866, 1)"
      ]
     },
     "execution_count": 10,
     "metadata": {},
     "output_type": "execute_result"
    }
   ],
   "source": [
    "Trading_ID = \"BTC-USDT\"\n",
    "the_path = os.getcwd()\n",
    "data_path = the_path + '/data/processed-data/'\n",
    "file_name = Trading_ID + '-processed.csv'\n",
    "file_path = data_path + file_name\n",
    "df = pd.read_csv(file_path, index_col='Date')\n",
    "df.drop(df.columns[df.columns.str.contains('unnamed: 0',case = False)],axis = 1,inplace = True)\n",
    "df.shape"
   ]
  },
  {
   "cell_type": "markdown",
   "metadata": {},
   "source": [
    "After testing we have defined that 4000 samples is the optimal amount of sample for safe handling.\n",
    "That means, depending on the frequency of the sampling is the lenght of the data:\n",
    " - Freq:  1 min ->   2.78 days\n",
    " - Freq:  5 min ->  13.89 days\n",
    " - Freq: 10 min ->  27.78 days\n",
    " - Freq: 15 min ->  41.67 days\n",
    " - Freq: 30 min ->  83.33 days\n",
    " - Freq: 60 min -> 166.67 days\n",
    " - Freq:  2 hrs -> 333.33 days\n",
    " - Freq:  3 hrs ->  1.36  years\n",
    " - Freq:  5 hrs ->   2    years\n",
    " - Freq:  8 hrs ->   2    years\n",
    " - Freq: 12 hrs ->   2    years\n",
    " - Freq: 24 hrs ->   2    years"
   ]
  },
  {
   "cell_type": "code",
   "execution_count": 11,
   "metadata": {},
   "outputs": [],
   "source": [
    "L_df = []\n",
    "L_freq = ['5min', '10min', '15min', '30min', '60min', '2H', '3H', '5H', '8H', '12H', '24H']\n",
    "\n",
    "# 5 min\n",
    "range_5min = pd.date_range(end=df.index[-1], periods=8000, freq='5T')\n",
    "df_5min = df[str(range_5min[0]):]\n",
    "L_df.append(df_5min)\n",
    "# 10 min\n",
    "range_10min = pd.date_range(end=df.index[-1], periods=8000, freq='10T')\n",
    "df_10min = df[str(range_10min[0]):]\n",
    "L_df.append(df_10min)\n",
    "# 15 min\n",
    "range_15min = pd.date_range(end=df.index[-1], periods=8000, freq='15T')\n",
    "df_15min = df[str(range_15min[0]):]\n",
    "L_df.append(df_15min)\n",
    "# 30 min\n",
    "range_30min = pd.date_range(end=df.index[-1], periods=8000, freq='30T')\n",
    "df_30min = df[str(range_30min[0]):]\n",
    "L_df.append(df_30min)\n",
    "# 60 min\n",
    "range_60min = pd.date_range(end=df.index[-1], periods=8000, freq='60T')\n",
    "df_60min = df[str(range_60min[0]):]\n",
    "L_df.append(df_60min)\n",
    "# 2 hrs\n",
    "range_2hrs = pd.date_range(end=df.index[-1], periods=8000, freq='2H')\n",
    "df_2hrs = df[str(range_2hrs[0]):]\n",
    "L_df.append(df_2hrs)\n",
    "# 3 hrs\n",
    "range_3hrs = pd.date_range(end=df.index[-1], periods=8000, freq='3H')\n",
    "df_3hrs = df[str(range_3hrs[0]):]\n",
    "L_df.append(df_3hrs)\n",
    "# 5 hrs\n",
    "df_5hrs = df[str(pd.Timestamp(df.index[-1]) - pd.offsets.Day(730)):]\n",
    "L_df.append(df_5hrs)\n",
    "# 8 hrs\n",
    "df_8hrs = df[str(pd.Timestamp(df.index[-1]) - pd.offsets.Day(730)):]\n",
    "L_df.append(df_8hrs)\n",
    "# 12 hrs\n",
    "df_12hrs = df[str(pd.Timestamp(df.index[-1]) - pd.offsets.Day(730)):]\n",
    "L_df.append(df_12hrs)\n",
    "# 24 hrs\n",
    "df_24hrs = df[str(pd.Timestamp(df.index[-1]) - pd.offsets.Day(730)):]\n",
    "L_df.append(df_24hrs)"
   ]
  },
  {
   "cell_type": "code",
   "execution_count": 12,
   "metadata": {},
   "outputs": [
    {
     "name": "stdout",
     "output_type": "stream",
     "text": [
      "DONE!\n"
     ]
    }
   ],
   "source": [
    "for dataframe, frequency in zip(L_df, L_freq):\n",
    "    values = dataframe['Average'].values\n",
    "    ts = pd.Series(values, index=dataframe.index)\n",
    "    ts.index = pd.to_datetime(ts.index)\n",
    "    ts = ts[~ts.index.duplicated()]\n",
    "    ts[ts==-1] = np.nan\n",
    "    newFreq=ts.resample(frequency).asfreq()\n",
    "    new = (ts.reindex(ts.index | newFreq.index)\n",
    "           .interpolate(method='time')\n",
    "           .loc[newFreq.index])\n",
    "    file_name = Trading_ID + '_resampled_' + frequency + '.csv'\n",
    "    file_path = data_path + file_name\n",
    "    new.to_csv(file_path)\n",
    "print('DONE!')"
   ]
  },
  {
   "cell_type": "code",
   "execution_count": null,
   "metadata": {},
   "outputs": [],
   "source": []
  }
 ],
 "metadata": {
  "kernelspec": {
   "display_name": "Python 3",
   "language": "python",
   "name": "python3"
  },
  "language_info": {
   "codemirror_mode": {
    "name": "ipython",
    "version": 3
   },
   "file_extension": ".py",
   "mimetype": "text/x-python",
   "name": "python",
   "nbconvert_exporter": "python",
   "pygments_lexer": "ipython3",
   "version": "3.6.5"
  }
 },
 "nbformat": 4,
 "nbformat_minor": 2
}
