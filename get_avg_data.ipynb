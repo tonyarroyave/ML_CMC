{
 "cells": [
  {
   "cell_type": "code",
   "execution_count": 24,
   "metadata": {},
   "outputs": [],
   "source": [
    "import os\n",
    "import numpy as np\n",
    "import pandas as pd\n",
    "import matplotlib.pyplot as plt"
   ]
  },
  {
   "cell_type": "code",
   "execution_count": 14,
   "metadata": {},
   "outputs": [],
   "source": [
    "the_path = os.getcwd()\n",
    "data_path = the_path + '/data/'\n",
    "file_name  = 'bitcoin.csv'\n",
    "file_path = data_path + file_name\n",
    "df_data    = pd.read_csv(file_path) # load csv file"
   ]
  },
  {
   "cell_type": "code",
   "execution_count": 15,
   "metadata": {},
   "outputs": [
    {
     "data": {
      "text/html": [
       "<div>\n",
       "<style scoped>\n",
       "    .dataframe tbody tr th:only-of-type {\n",
       "        vertical-align: middle;\n",
       "    }\n",
       "\n",
       "    .dataframe tbody tr th {\n",
       "        vertical-align: top;\n",
       "    }\n",
       "\n",
       "    .dataframe thead th {\n",
       "        text-align: right;\n",
       "    }\n",
       "</style>\n",
       "<table border=\"1\" class=\"dataframe\">\n",
       "  <thead>\n",
       "    <tr style=\"text-align: right;\">\n",
       "      <th></th>\n",
       "      <th>Coin</th>\n",
       "      <th>Date</th>\n",
       "      <th>Open*</th>\n",
       "      <th>High</th>\n",
       "      <th>Low</th>\n",
       "      <th>Close**</th>\n",
       "      <th>Volume</th>\n",
       "      <th>Market Cap</th>\n",
       "    </tr>\n",
       "  </thead>\n",
       "  <tbody>\n",
       "    <tr>\n",
       "      <th>0</th>\n",
       "      <td>bitcoin</td>\n",
       "      <td>Jul 02, 2018</td>\n",
       "      <td>6380.38</td>\n",
       "      <td>6683.86</td>\n",
       "      <td>6305.70</td>\n",
       "      <td>6614.18</td>\n",
       "      <td>4,396,930,000</td>\n",
       "      <td>109,273,000,000</td>\n",
       "    </tr>\n",
       "    <tr>\n",
       "      <th>1</th>\n",
       "      <td>bitcoin</td>\n",
       "      <td>Jul 01, 2018</td>\n",
       "      <td>6411.68</td>\n",
       "      <td>6432.85</td>\n",
       "      <td>6289.29</td>\n",
       "      <td>6385.82</td>\n",
       "      <td>4,788,260,000</td>\n",
       "      <td>109,797,000,000</td>\n",
       "    </tr>\n",
       "    <tr>\n",
       "      <th>2</th>\n",
       "      <td>bitcoin</td>\n",
       "      <td>Jun 30, 2018</td>\n",
       "      <td>6214.22</td>\n",
       "      <td>6465.51</td>\n",
       "      <td>6214.22</td>\n",
       "      <td>6404.00</td>\n",
       "      <td>4,543,860,000</td>\n",
       "      <td>106,405,000,000</td>\n",
       "    </tr>\n",
       "    <tr>\n",
       "      <th>3</th>\n",
       "      <td>bitcoin</td>\n",
       "      <td>Jun 29, 2018</td>\n",
       "      <td>5898.13</td>\n",
       "      <td>6261.66</td>\n",
       "      <td>5835.75</td>\n",
       "      <td>6218.30</td>\n",
       "      <td>3,966,230,000</td>\n",
       "      <td>100,981,000,000</td>\n",
       "    </tr>\n",
       "    <tr>\n",
       "      <th>4</th>\n",
       "      <td>bitcoin</td>\n",
       "      <td>Jun 28, 2018</td>\n",
       "      <td>6153.16</td>\n",
       "      <td>6170.41</td>\n",
       "      <td>5873.05</td>\n",
       "      <td>5903.44</td>\n",
       "      <td>3,467,800,000</td>\n",
       "      <td>105,336,000,000</td>\n",
       "    </tr>\n",
       "  </tbody>\n",
       "</table>\n",
       "</div>"
      ],
      "text/plain": [
       "      Coin          Date    Open*     High      Low  Close**         Volume  \\\n",
       "0  bitcoin  Jul 02, 2018  6380.38  6683.86  6305.70  6614.18  4,396,930,000   \n",
       "1  bitcoin  Jul 01, 2018  6411.68  6432.85  6289.29  6385.82  4,788,260,000   \n",
       "2  bitcoin  Jun 30, 2018  6214.22  6465.51  6214.22  6404.00  4,543,860,000   \n",
       "3  bitcoin  Jun 29, 2018  5898.13  6261.66  5835.75  6218.30  3,966,230,000   \n",
       "4  bitcoin  Jun 28, 2018  6153.16  6170.41  5873.05  5903.44  3,467,800,000   \n",
       "\n",
       "        Market Cap  \n",
       "0  109,273,000,000  \n",
       "1  109,797,000,000  \n",
       "2  106,405,000,000  \n",
       "3  100,981,000,000  \n",
       "4  105,336,000,000  "
      ]
     },
     "execution_count": 15,
     "metadata": {},
     "output_type": "execute_result"
    }
   ],
   "source": [
    "df_data.head(5) # peak on the dataset"
   ]
  },
  {
   "cell_type": "code",
   "execution_count": 27,
   "metadata": {},
   "outputs": [],
   "source": [
    "df_data['Average'] = (df_data['Open*']+df_data['Close**'])/2\n",
    "df_data['Date'] = pd.to_datetime(df_data['Date'])"
   ]
  },
  {
   "cell_type": "code",
   "execution_count": 28,
   "metadata": {},
   "outputs": [
    {
     "data": {
      "image/png": "[encoded data removed]",
      "text/plain": [
       "<matplotlib.figure.Figure at 0x7f6c9786d748>"
      ]
     },
     "metadata": {},
     "output_type": "display_data"
    }
   ],
   "source": [
    "plt.plot(df_data['Date'], df_data['Average'])\n",
    "plt.show()"
   ]
  },
  {
   "cell_type": "code",
   "execution_count": null,
   "metadata": {},
   "outputs": [],
   "source": []
  }
 ],
 "metadata": {
  "kernelspec": {
   "display_name": "Python 3",
   "language": "python",
   "name": "python3"
  },
  "language_info": {
   "codemirror_mode": {
    "name": "ipython",
    "version": 3
   },
   "file_extension": ".py",
   "mimetype": "text/x-python",
   "name": "python",
   "nbconvert_exporter": "python",
   "pygments_lexer": "ipython3",
   "version": "3.6.5"
  }
 },
 "nbformat": 4,
 "nbformat_minor": 2
}
