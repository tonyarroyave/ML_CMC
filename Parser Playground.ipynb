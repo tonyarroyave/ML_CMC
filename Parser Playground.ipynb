{
 "cells": [
  {
   "cell_type": "code",
   "execution_count": 1,
   "metadata": {},
   "outputs": [],
   "source": [
    "import json\n",
    "import requests\n",
    "from bs4 import BeautifulSoup\n",
    "import csv\n",
    "import sys"
   ]
  },
  {
   "cell_type": "code",
   "execution_count": 13,
   "metadata": {},
   "outputs": [],
   "source": [
    "def gather(startdate, enddate, names):\n",
    "    historicaldata = []\n",
    "    counter = 1\n",
    "\n",
    "    if len(names) == 0:\n",
    "        names = CoinNames()\n",
    "\n",
    "    for coin in names:\n",
    "        link_str = \"https://coinmarketcap.com/currencies/\" + \\\n",
    "            coin + \"/historical-data/?start=\" + startdate + \"&end=\" + enddate\n",
    "        print (link_str)\n",
    "        r = requests.get(link_str)\n",
    "        data = r.text\n",
    "        soup = BeautifulSoup(data, \"html5lib\")\n",
    "        table = soup.find('table', attrs={\"class\": \"table\"})\n",
    "\n",
    "        # Add table header to list\n",
    "        if len(historicaldata) == 0:\n",
    "            headers = [header.text for header in table.find_all('th')]\n",
    "            headers.insert(0, \"Coin\")\n",
    "\n",
    "        for row in table.find_all('tr'):\n",
    "            currentrow = [val.text for val in row.find_all('td')]\n",
    "            if(len(currentrow) != 0):\n",
    "                currentrow.insert(0, coin)\n",
    "            historicaldata.append(currentrow)\n",
    "\n",
    "        print(\"Coin Counter -> \" + str(counter), end='\\r')\n",
    "        counter += 1\n",
    "    return headers, historicaldata"
   ]
  },
  {
   "cell_type": "code",
   "execution_count": 9,
   "metadata": {},
   "outputs": [
    {
     "name": "stdout",
     "output_type": "stream",
     "text": [
      "<table class=\"table\">\n",
      "<thead>\n",
      "<tr>\n",
      "<th class=\"text-left\">Date</th>\n",
      "<th class=\"text-right\">Open*</th>\n",
      "<th class=\"text-right\">High</th>\n",
      "<th class=\"text-right\">Low</th>\n",
      "<th class=\"text-right\">Close**</th>\n",
      "<th class=\"text-right\">Volume</th>\n",
      "<th class=\"text-right\">Market Cap</th>\n",
      "</tr>\n",
      "</thead>\n",
      "<tbody>\n",
      "<tr class=\"text-right\">\n",
      "<td class=\"text-left\">Jan 02, 2017</td>\n",
      "<td data-format-fiat=\"\" data-format-value=\"998.617\">998.62</td>\n",
      "<td data-format-fiat=\"\" data-format-value=\"1031.39\">1031.39</td>\n",
      "<td data-format-fiat=\"\" data-format-value=\"996.702\">996.70</td>\n",
      "<td data-format-fiat=\"\" data-format-value=\"1021.75\">1021.75</td>\n",
      "<td data-format-market-cap=\"\" data-format-value=\"222185000.0\">222,185,000</td>\n",
      "<td data-format-market-cap=\"\" data-format-value=\"16055100000.0\">16,055,100,000</td>\n",
      "</tr>\n",
      "<tr class=\"text-right\">\n",
      "<td class=\"text-left\">Jan 01, 2017</td>\n",
      "<td data-format-fiat=\"\" data-format-value=\"963.658\">963.66</td>\n",
      "<td data-format-fiat=\"\" data-format-value=\"1003.08\">1003.08</td>\n",
      "<td data-format-fiat=\"\" data-format-value=\"958.699\">958.70</td>\n",
      "<td data-format-fiat=\"\" data-format-value=\"998.325\">998.33</td>\n",
      "<td data-format-market-cap=\"\" data-format-value=\"147775000.0\">147,775,000</td>\n",
      "<td data-format-market-cap=\"\" data-format-value=\"15491200000.0\">15,491,200,000</td>\n",
      "</tr>\n",
      "</tbody>\n",
      "</table>\n"
     ]
    }
   ],
   "source": [
    "historicaldata = []\n",
    "counter = 1\n",
    "coin = \"bitcoin\"\n",
    "r = requests.get(\"https://coinmarketcap.com/currencies/bitcoin/historical-data/?start=20170101&end=20170102\")\n",
    "data = r.text\n",
    "soup = BeautifulSoup(data, \"html5lib\")\n",
    "table = soup.find('table', attrs={\"class\": \"table\"})\n",
    "print(table)"
   ]
  },
  {
   "cell_type": "code",
   "execution_count": 10,
   "metadata": {},
   "outputs": [
    {
     "name": "stdout",
     "output_type": "stream",
     "text": [
      "Coin Counter -> 1\r"
     ]
    }
   ],
   "source": [
    "if len(historicaldata) == 0:\n",
    "    headers = [header.text for header in table.find_all('th')]\n",
    "    headers.insert(0, \"Coin\")\n",
    "\n",
    "for row in table.find_all('tr'):\n",
    "    currentrow = [val.text for val in row.find_all('td')]\n",
    "    if(len(currentrow) != 0):\n",
    "        currentrow.insert(0, coin)\n",
    "    historicaldata.append(currentrow)\n",
    "\n",
    "print(\"Coin Counter -> \" + str(counter), end='\\r')\n",
    "counter += 1"
   ]
  },
  {
   "cell_type": "code",
   "execution_count": 12,
   "metadata": {},
   "outputs": [
    {
     "data": {
      "text/plain": [
       "[[],\n",
       " ['bitcoin',\n",
       "  'Jan 02, 2017',\n",
       "  '998.62',\n",
       "  '1031.39',\n",
       "  '996.70',\n",
       "  '1021.75',\n",
       "  '222,185,000',\n",
       "  '16,055,100,000'],\n",
       " ['bitcoin',\n",
       "  'Jan 01, 2017',\n",
       "  '963.66',\n",
       "  '1003.08',\n",
       "  '958.70',\n",
       "  '998.33',\n",
       "  '147,775,000',\n",
       "  '15,491,200,000']]"
      ]
     },
     "execution_count": 12,
     "metadata": {},
     "output_type": "execute_result"
    }
   ],
   "source": [
    "historicaldata"
   ]
  },
  {
   "cell_type": "code",
   "execution_count": 17,
   "metadata": {},
   "outputs": [
    {
     "name": "stdout",
     "output_type": "stream",
     "text": [
      "https://coinmarketcap.com/currencies/bitcoin/historical-data/?start=20170101&end=20170102\n",
      "https://coinmarketcap.com/currencies/bitcoin/historical-data/?start=20170101&end=20170102\n",
      "Coin Counter -> 1\r"
     ]
    }
   ],
   "source": [
    "coin = 'bitcoin'\n",
    "startdate = '20170101'\n",
    "enddate = '20170102'\n",
    "link_str = \"https://coinmarketcap.com/currencies/\" + \\\n",
    "            coin + \"/historical-data/?start=\" + startdate + \"&end=\" + enddate\n",
    "print(link_str)\n",
    "headers, historicaldata = gather(start_date, end_date, [coin])"
   ]
  },
  {
   "cell_type": "code",
   "execution_count": null,
   "metadata": {},
   "outputs": [],
   "source": []
  }
 ],
 "metadata": {
  "kernelspec": {
   "display_name": "Python 3",
   "language": "python",
   "name": "python3"
  },
  "language_info": {
   "codemirror_mode": {
    "name": "ipython",
    "version": 3
   },
   "file_extension": ".py",
   "mimetype": "text/x-python",
   "name": "python",
   "nbconvert_exporter": "python",
   "pygments_lexer": "ipython3",
   "version": "3.5.2"
  }
 },
 "nbformat": 4,
 "nbformat_minor": 2
}
